{
 "cells": [
  {
   "cell_type": "markdown",
   "id": "774208d0",
   "metadata": {},
   "source": [
    "Task : Create a list consisting of Fibonacci numbers from 1 to 55 using control flow statements and range() function."
   ]
  },
  {
   "cell_type": "code",
   "execution_count": null,
   "id": "166166dc",
   "metadata": {},
   "outputs": [],
   "source": [
    "for i in range(1, 56) :\n",
    "    if i == 1 :\n",
    "        fibonacci = []\n",
    "        fibonacci.append(i)\n",
    "        fibonacci.append(i)\n",
    "    elif i >= 2 :\n",
    "        answer = fibonacci[i - 1] + fibonacci[i - 2]\n",
    "        fibonacci.append(answer)\n",
    "        if fibonacci[i] == 55 :\n",
    "            break\n",
    "        \n",
    "print(fibonacci)"
   ]
  }
 ],
 "metadata": {
  "kernelspec": {
   "display_name": "Python 3 (ipykernel)",
   "language": "python",
   "name": "python3"
  },
  "language_info": {
   "codemirror_mode": {
    "name": "ipython",
    "version": 3
   },
   "file_extension": ".py",
   "mimetype": "text/x-python",
   "name": "python",
   "nbconvert_exporter": "python",
   "pygments_lexer": "ipython3",
   "version": "3.11.0"
  }
 },
 "nbformat": 4,
 "nbformat_minor": 5
}
