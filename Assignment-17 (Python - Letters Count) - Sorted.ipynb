{
 "cells": [
  {
   "cell_type": "code",
   "execution_count": null,
   "id": "a0d4bb19",
   "metadata": {},
   "outputs": [],
   "source": [
    "sentence = (input(\"Enter a sentence : \")).lower()\n",
    "key = []\n",
    "value = []\n",
    "for i in sentence :\n",
    "    x = i\n",
    "    y = sentence.count(i)\n",
    "    key.append(x)\n",
    "    value.append(y)\n",
    "    \n",
    "    if i == \" \" : \n",
    "        z = sentence.count(i)\n",
    "        key.append(i)\n",
    "        value.append(z)\n",
    "\n",
    "a = zip(key, value)        \n",
    "    \n",
    "print(\"The letters and their numbers : \", dict(a))"
   ]
  }
 ],
 "metadata": {
  "kernelspec": {
   "display_name": "Python 3 (ipykernel)",
   "language": "python",
   "name": "python3"
  },
  "language_info": {
   "codemirror_mode": {
    "name": "ipython",
    "version": 3
   },
   "file_extension": ".py",
   "mimetype": "text/x-python",
   "name": "python",
   "nbconvert_exporter": "python",
   "pygments_lexer": "ipython3",
   "version": "3.11.0"
  }
 },
 "nbformat": 4,
 "nbformat_minor": 5
}
