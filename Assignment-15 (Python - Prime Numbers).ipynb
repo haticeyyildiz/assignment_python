{
 "cells": [
  {
   "cell_type": "markdown",
   "id": "91355d71",
   "metadata": {},
   "source": [
    "Task : Print the prime numbers which are between 1 to entered limit number (n).\n",
    "\n",
    "You can use a nested for loop.\n",
    "Collect all these numbers into a list\n",
    "\n",
    "\n",
    "The desired output for n=100 :\n",
    "\n",
    "[2, 3, 5, 7, 11, 13, 17, 19, 23, 29, 31, 37, 41, 43, 47, 53, 59,\n",
    "61, 67, 71, 73, 79, 83, 89, 97]"
   ]
  },
  {
   "cell_type": "code",
   "execution_count": null,
   "id": "33a9b4ed",
   "metadata": {},
   "outputs": [],
   "source": [
    "x = int(input(\"Enter a number :\"))\n",
    "prime_num = []\n",
    "\n",
    "for i in range(2, x+1) :\n",
    "    count = 0\n",
    "    for a in range (2, i) :\n",
    "        \n",
    "        if  i % a == 0 : \n",
    "            count += 1\n",
    "            break\n",
    "    if not count : \n",
    "        prime_num.append(i)\n",
    "        \n",
    "            \n",
    "print(prime_num)"
   ]
  }
 ],
 "metadata": {
  "kernelspec": {
   "display_name": "Python 3 (ipykernel)",
   "language": "python",
   "name": "python3"
  },
  "language_info": {
   "codemirror_mode": {
    "name": "ipython",
    "version": 3
   },
   "file_extension": ".py",
   "mimetype": "text/x-python",
   "name": "python",
   "nbconvert_exporter": "python",
   "pygments_lexer": "ipython3",
   "version": "3.11.0"
  }
 },
 "nbformat": 4,
 "nbformat_minor": 5
}
