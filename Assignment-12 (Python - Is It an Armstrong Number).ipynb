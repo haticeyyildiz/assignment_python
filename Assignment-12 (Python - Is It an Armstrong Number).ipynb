{
 "cells": [
  {
   "cell_type": "markdown",
   "id": "dee3fda5",
   "metadata": {},
   "source": [
    "Find out if a given number is an \"Armstrong Number\".\n",
    "\n",
    "An n-digit number that is the sum of the nth powers of its digits is called an n-Armstrong number. Examples :\n",
    "371 = 33 + 73 + 13;\n",
    "9474 = 94 + 44 + 74 + 44;\n",
    "93084 = 95 + 35 + 05 + 85 + 45.\n",
    "\n",
    "Write a Python program that;\n",
    "takes a positive integer number from the user,\n",
    "checks the entered number if it is Armstrong,\n",
    "consider the negative, float and any entries other than numeric values then display a warning message to the user."
   ]
  },
  {
   "cell_type": "code",
   "execution_count": null,
   "id": "1c860ac0",
   "metadata": {},
   "outputs": [],
   "source": [
    "number = input (\"Please enter a number as integer : \")\n",
    "answer = 0\n",
    "\n",
    "if not number.isdigit() :\n",
    "    \n",
    "    print(\"It is an invalid entry, please enter a valid integer number!\")\n",
    "\n",
    "else :\n",
    "    for i in number :\n",
    "        answer += int(i) ** len(number)\n",
    "        \n",
    "        \n",
    "    if answer == int(number) : \n",
    "        print(f\"Congrats! {number} is an Armstrong number.\")\n",
    "        \n",
    "    else:\n",
    "        print(f\"{number} is not an Armstrong number.\")\n",
    "        \n"
   ]
  }
 ],
 "metadata": {
  "kernelspec": {
   "display_name": "Python 3 (ipykernel)",
   "language": "python",
   "name": "python3"
  },
  "language_info": {
   "codemirror_mode": {
    "name": "ipython",
    "version": 3
   },
   "file_extension": ".py",
   "mimetype": "text/x-python",
   "name": "python",
   "nbconvert_exporter": "python",
   "pygments_lexer": "ipython3",
   "version": "3.11.0"
  }
 },
 "nbformat": 4,
 "nbformat_minor": 5
}
