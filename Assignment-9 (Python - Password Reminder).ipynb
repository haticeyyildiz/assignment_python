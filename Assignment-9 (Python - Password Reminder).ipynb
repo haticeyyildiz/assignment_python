{
 "cells": [
  {
   "cell_type": "code",
   "execution_count": null,
   "id": "2dcb1ff6",
   "metadata": {},
   "outputs": [],
   "source": [
    "title = \"Assignment-9 Python - Password Reminder\"\n",
    "print(title)\n",
    "\n",
    "name = input(\"Please enter your name : \").title()\n",
    "\n",
    "answer = \"Jeniffer\"\n",
    "\n",
    "if name == answer :\n",
    "    \n",
    "    print(f\"Hello {name}! The password is: X!25S\")\n",
    "    \n",
    "    \n",
    "else :\n",
    "    \n",
    "    print(f\"Hello {name}! See you later.\")"
   ]
  }
 ],
 "metadata": {
  "kernelspec": {
   "display_name": "Python 3 (ipykernel)",
   "language": "python",
   "name": "python3"
  },
  "language_info": {
   "codemirror_mode": {
    "name": "ipython",
    "version": 3
   },
   "file_extension": ".py",
   "mimetype": "text/x-python",
   "name": "python",
   "nbconvert_exporter": "python",
   "pygments_lexer": "ipython3",
   "version": "3.11.0"
  }
 },
 "nbformat": 4,
 "nbformat_minor": 5
}
