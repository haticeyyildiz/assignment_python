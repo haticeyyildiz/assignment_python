{
 "cells": [
  {
   "cell_type": "markdown",
   "id": "774208d0",
   "metadata": {},
   "source": [
    "Task : Create a list consisting of Fibonacci numbers from 1 to 55 using control flow statements and range() function."
   ]
  },
  {
   "cell_type": "code",
   "execution_count": null,
   "id": "166166dc",
   "metadata": {},
   "outputs": [],
   "source": [
    "fibonacci = []\n",
    "for a in range(1, 56) :\n",
    "    if i == 1 :\n",
    "        fibonacci.append(i)\n",
    "    elif a == 2 :\n",
    "        a = (a - 1) + (a - 2)\n",
    "        fibonacci.append(i)\n",
    "    elif a >= 3:\n",
    "        a = int((((1 + 5 ** 0.5) / 2) ** a - ((1 - 5 ** 0.5) / 2) ** a) /(5) **0.5)\n",
    "        fibonacci.append(a)\n",
    "    elif a <= 55 : \n",
    "        a = int((((1 + 5 ** 0.5) / 2) ** a - ((1 - 5 ** 0.5) / 2) ** a) /(5) **0.5)\n",
    "        fibonacci.append(a)\n",
    "        \n",
    "            \n",
    "        \n",
    "print(fibonacci)"
   ]
  },
  {
   "cell_type": "code",
   "execution_count": null,
   "id": "161a9b49",
   "metadata": {},
   "outputs": [],
   "source": []
  }
 ],
 "metadata": {
  "kernelspec": {
   "display_name": "Python 3 (ipykernel)",
   "language": "python",
   "name": "python3"
  },
  "language_info": {
   "codemirror_mode": {
    "name": "ipython",
    "version": 3
   },
   "file_extension": ".py",
   "mimetype": "text/x-python",
   "name": "python",
   "nbconvert_exporter": "python",
   "pygments_lexer": "ipython3",
   "version": "3.11.0"
  }
 },
 "nbformat": 4,
 "nbformat_minor": 5
}
