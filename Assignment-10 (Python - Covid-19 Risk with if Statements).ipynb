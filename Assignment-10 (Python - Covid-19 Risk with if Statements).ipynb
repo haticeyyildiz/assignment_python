{
 "cells": [
  {
   "cell_type": "markdown",
   "id": "c5f970de",
   "metadata": {},
   "source": [
    "Task : Estimating the risk of death from coronavirus. Write a program that;\n",
    "\n",
    "Takes \"Yes\" or \"No\" from the user as an answer to the following questions :\n",
    "\n",
    "Are you a cigarette addict older than 75 years old? Variable → age\n",
    "\n",
    "Do you have a severe chronic disease? Variable → chronic\n",
    "\n",
    "Is your immune system too weak? Variable → immune\n",
    "\n",
    "Set a logical algorithm using boolean logic operators (and/or) and use if-statements with the given variables in order to print out us a message : \"You are in risky group\"(if True ) or \"You are not in risky group\" (if False).\n",
    "\n",
    "age =  # can be assigned only True/False\n",
    "chronic =  # can be assigned only True/False\n",
    "immune =  # can be assigned only True/False\n",
    "risk = ?"
   ]
  },
  {
   "cell_type": "code",
   "execution_count": null,
   "id": "1e9c554f",
   "metadata": {},
   "outputs": [],
   "source": [
    "sentence = \"Please answer questions with Yes or No.\"\n",
    "print(sentence)\n",
    "\n",
    "age = input(\"Are you a cigarette addict older than 75 years old? : \").title()\n",
    "chronic = input(\"Do you have a severe chronic disease? : \").title()\n",
    "immune = input(\"Is your immune system too weak? : \").title()\n",
    "\n",
    "if age == \"No\" :\n",
    "    age == False\n",
    "else : \n",
    "    age == True\n",
    "    \n",
    "if chronic == \"No\" :\n",
    "    chronic == False\n",
    "else : \n",
    "    chronic == True\n",
    "    \n",
    "if immune == \"No\" : \n",
    "    immune == False\n",
    "else: \n",
    "    immune == True\n",
    "    \n",
    "if age and chronic and immune :\n",
    "    print(\"You are in risky group.\")\n",
    "else : \n",
    "    print(\"You are not in risky group.\")\n"
   ]
  }
 ],
 "metadata": {
  "kernelspec": {
   "display_name": "Python 3 (ipykernel)",
   "language": "python",
   "name": "python3"
  },
  "language_info": {
   "codemirror_mode": {
    "name": "ipython",
    "version": 3
   },
   "file_extension": ".py",
   "mimetype": "text/x-python",
   "name": "python",
   "nbconvert_exporter": "python",
   "pygments_lexer": "ipython3",
   "version": "3.11.0"
  }
 },
 "nbformat": 4,
 "nbformat_minor": 5
}
