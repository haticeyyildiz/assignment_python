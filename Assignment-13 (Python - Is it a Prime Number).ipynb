{
 "cells": [
  {
   "cell_type": "markdown",
   "id": "92811575",
   "metadata": {},
   "source": [
    "Task : Write a program that takes a number from the user and prints the result to check if it is a prime number."
   ]
  },
  {
   "cell_type": "code",
   "execution_count": null,
   "id": "649a89c3",
   "metadata": {},
   "outputs": [],
   "source": [
    "prime_num = int(input(\"Enter a number : \"))\n",
    "if prime_num >= 2 : \n",
    "    for i in range(2, prime_num) : \n",
    "        if prime_num % i == 0 : \n",
    "            print(prime_num, \"is not a prime number\")\n",
    "            break\n",
    "        else : \n",
    "            print(prime_num, \"is a prime number.\")\n",
    "            break\n",
    "else : \n",
    "    print(prime_num, \"is not a prime number\")\n",
    "    "
   ]
  }
 ],
 "metadata": {
  "kernelspec": {
   "display_name": "Python 3 (ipykernel)",
   "language": "python",
   "name": "python3"
  },
  "language_info": {
   "codemirror_mode": {
    "name": "ipython",
    "version": 3
   },
   "file_extension": ".py",
   "mimetype": "text/x-python",
   "name": "python",
   "nbconvert_exporter": "python",
   "pygments_lexer": "ipython3",
   "version": "3.11.0"
  }
 },
 "nbformat": 4,
 "nbformat_minor": 5
}
