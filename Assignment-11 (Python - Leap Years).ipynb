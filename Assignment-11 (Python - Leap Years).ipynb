{
 "cells": [
  {
   "cell_type": "markdown",
   "id": "05cf292a",
   "metadata": {},
   "source": [
    "Find out if a given year is a \"leap\" year.\n",
    "\n",
    "In the Gregorian calendar, three criteria must be taken into account to identify leap years:\n",
    "- The year must be evenly divisible by 4;\n",
    "- If the year can also be evenly divided by 100, it is not a leap year; unless...\n",
    "- The year is also evenly divisible by 400. Then it is a leap year."
   ]
  },
  {
   "cell_type": "code",
   "execution_count": null,
   "id": "093aaf70",
   "metadata": {},
   "outputs": [],
   "source": [
    "year = int(input(\"Please enter a year : \"))\n",
    "\n",
    "if year % 400 == 0 :\n",
    "    print(year, \"is a leap year.\")\n",
    "    \n",
    "elif year % 4 == 0 and year % 100 != 0 : \n",
    "    print(year, \"is a leap year.\")\n",
    "    \n",
    "else : \n",
    "    print(year, \"is not a leap year.\")"
   ]
  }
 ],
 "metadata": {
  "kernelspec": {
   "display_name": "Python 3 (ipykernel)",
   "language": "python",
   "name": "python3"
  },
  "language_info": {
   "codemirror_mode": {
    "name": "ipython",
    "version": 3
   },
   "file_extension": ".py",
   "mimetype": "text/x-python",
   "name": "python",
   "nbconvert_exporter": "python",
   "pygments_lexer": "ipython3",
   "version": "3.11.0"
  }
 },
 "nbformat": 4,
 "nbformat_minor": 5
}
